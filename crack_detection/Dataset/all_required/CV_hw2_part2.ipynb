{
  "nbformat": 4,
  "nbformat_minor": 0,
  "metadata": {
    "colab": {
      "name": "CV_hw2_part2.ipynb",
      "provenance": []
    },
    "kernelspec": {
      "name": "python3",
      "display_name": "Python 3"
    }
  },
  "cells": [
    {
      "cell_type": "markdown",
      "metadata": {
        "id": "Dpx8DMPKlbgs",
        "colab_type": "text"
      },
      "source": [
        "# Imports"
      ]
    },
    {
      "cell_type": "code",
      "metadata": {
        "id": "2SD1V_JgipzL",
        "colab_type": "code",
        "colab": {}
      },
      "source": [
        "import numpy as np\n",
        "import pandas as pd\n",
        "\n",
        "from sklearn.metrics import f1_score, precision_score, recall_score, accuracy_score\n",
        "from tensorflow.keras.preprocessing.image import ImageDataGenerator\n",
        "\n",
        "from tensorflow.keras import models"
      ],
      "execution_count": 2,
      "outputs": []
    },
    {
      "cell_type": "markdown",
      "metadata": {
        "id": "jlgLHGidllta",
        "colab_type": "text"
      },
      "source": [
        "# Inputs"
      ]
    },
    {
      "cell_type": "code",
      "metadata": {
        "id": "-MxLhIYCi-m_",
        "colab_type": "code",
        "colab": {
          "base_uri": "https://localhost:8080/",
          "height": 164
        },
        "outputId": "ebd5d514-8953-4a8e-b236-874d30d52428"
      },
      "source": [
        "!unzip my_model.zip -d prepared_model"
      ],
      "execution_count": 4,
      "outputs": [
        {
          "output_type": "stream",
          "text": [
            "Archive:  my_model.zip\n",
            "   creating: prepared_model/my_model/\n",
            "  inflating: prepared_model/my_model/saved_model.pb  \n",
            "   creating: prepared_model/my_model/assets/\n",
            "   creating: prepared_model/my_model/variables/\n",
            "  inflating: prepared_model/my_model/variables/variables.index  \n",
            "  inflating: prepared_model/my_model/variables/variables.data-00000-of-00001  \n"
          ],
          "name": "stdout"
        }
      ]
    },
    {
      "cell_type": "code",
      "metadata": {
        "id": "UF-_MltvivwQ",
        "colab_type": "code",
        "colab": {
          "base_uri": "https://localhost:8080/",
          "height": 435
        },
        "outputId": "08600e2f-5397-4788-dc40-ff3a862c392e"
      },
      "source": [
        "path_to_model = \"./prepared_model/my_model\"\n",
        "model_l = models.load_model(path_to_model)\n",
        "model_l.summary()"
      ],
      "execution_count": 6,
      "outputs": [
        {
          "output_type": "stream",
          "text": [
            "Model: \"sequential_1\"\n",
            "_________________________________________________________________\n",
            "Layer (type)                 Output Shape              Param #   \n",
            "=================================================================\n",
            "conv2d_2 (Conv2D)            (None, 118, 118, 32)      320       \n",
            "_________________________________________________________________\n",
            "max_pooling2d_1 (MaxPooling2 (None, 59, 59, 32)        0         \n",
            "_________________________________________________________________\n",
            "conv2d_3 (Conv2D)            (None, 57, 57, 32)        9248      \n",
            "_________________________________________________________________\n",
            "flatten_1 (Flatten)          (None, 103968)            0         \n",
            "_________________________________________________________________\n",
            "dense_2 (Dense)              (None, 100)               10396900  \n",
            "_________________________________________________________________\n",
            "dense_3 (Dense)              (None, 2)                 202       \n",
            "=================================================================\n",
            "Total params: 10,406,670\n",
            "Trainable params: 10,406,670\n",
            "Non-trainable params: 0\n",
            "_________________________________________________________________\n"
          ],
          "name": "stdout"
        }
      ]
    },
    {
      "cell_type": "code",
      "metadata": {
        "id": "PoIu3yv2qCUX",
        "colab_type": "code",
        "colab": {}
      },
      "source": [
        "#!unzip small_dataset.zip -d small_dataset\n",
        "#!ls"
      ],
      "execution_count": null,
      "outputs": []
    },
    {
      "cell_type": "code",
      "metadata": {
        "id": "ypzMYbboiyls",
        "colab_type": "code",
        "colab": {
          "base_uri": "https://localhost:8080/",
          "height": 38
        },
        "outputId": "ecef2775-9406-4996-f4fc-b76866578753"
      },
      "source": [
        "#write  here the data location path\n",
        "path_to_test_images_dir = input()"
      ],
      "execution_count": 9,
      "outputs": [
        {
          "output_type": "stream",
          "text": [
            "small_dataset\n"
          ],
          "name": "stdout"
        }
      ]
    },
    {
      "cell_type": "code",
      "metadata": {
        "id": "aEx6qs75qZyy",
        "colab_type": "code",
        "colab": {}
      },
      "source": [
        ""
      ],
      "execution_count": null,
      "outputs": []
    },
    {
      "cell_type": "markdown",
      "metadata": {
        "id": "mADYfpilltq5",
        "colab_type": "text"
      },
      "source": [
        "# Datagenerators"
      ]
    },
    {
      "cell_type": "code",
      "metadata": {
        "id": "ZZPCbwLCizbU",
        "colab_type": "code",
        "colab": {
          "base_uri": "https://localhost:8080/",
          "height": 38
        },
        "outputId": "b81cda40-d3a6-41a8-8ea8-4dbc14670793"
      },
      "source": [
        "# Datagenerator\n",
        "img_height, img_width = 120, 120\n",
        "batch_size = 64\n",
        "\n",
        "datagen_for_predictins = ImageDataGenerator(rescale=1./255)\n",
        "\n",
        "generator_for_predictions = datagen_for_predictins.flow_from_directory(\n",
        "    path_to_test_images_dir,\n",
        "    target_size=(img_height, img_width),\n",
        "    batch_size=batch_size,\n",
        "    class_mode=None,\n",
        "    shuffle=False,\n",
        "    color_mode = 'grayscale')"
      ],
      "execution_count": 10,
      "outputs": [
        {
          "output_type": "stream",
          "text": [
            "Found 200 images belonging to 1 classes.\n"
          ],
          "name": "stdout"
        }
      ]
    },
    {
      "cell_type": "markdown",
      "metadata": {
        "id": "CXUhvR5Bl4aa",
        "colab_type": "text"
      },
      "source": [
        "# Predictions"
      ]
    },
    {
      "cell_type": "code",
      "metadata": {
        "id": "grpAXr2Di1kp",
        "colab_type": "code",
        "colab": {
          "base_uri": "https://localhost:8080/",
          "height": 121
        },
        "outputId": "4b4124ac-f331-43fc-ed15-b936132a9b56"
      },
      "source": [
        "generator_for_predictions.reset() # reset to keep right order\n",
        "filenames = generator_for_predictions.filenames\n",
        "filenames = [f.split('/')[-1] for f in filenames] #filenames without directory\n",
        "STEP_SIZE_TEST=generator_for_predictions.n//generator_for_predictions.batch_size\n",
        "generator_for_predictions.reset()\n",
        "pred=model_l.predict_generator(generator_for_predictions,\n",
        "                               steps=STEP_SIZE_TEST + 1,\n",
        "                               verbose=1)\n",
        "#convert NN output to class labels\n",
        "predicted_class_indices=np.argmax(pred,axis=1)\n",
        "# remove redundant predictions\n",
        "predicted_class_indices=predicted_class_indices[:len(filenames)] \n"
      ],
      "execution_count": 11,
      "outputs": [
        {
          "output_type": "stream",
          "text": [
            "WARNING:tensorflow:From <ipython-input-11-c3ebd8c14989>:8: Model.predict_generator (from tensorflow.python.keras.engine.training) is deprecated and will be removed in a future version.\n",
            "Instructions for updating:\n",
            "Please use Model.predict, which supports generators.\n",
            "4/4 [==============================] - 1s 146ms/step\n"
          ],
          "name": "stdout"
        }
      ]
    },
    {
      "cell_type": "code",
      "metadata": {
        "id": "XKUn_5TCi5uc",
        "colab_type": "code",
        "colab": {}
      },
      "source": [
        "# Saving\n",
        "data = {'file': filenames, 'label': predicted_class_indices}\n",
        "prediction_csv = pd.DataFrame(data).to_csv('prediction.csv')"
      ],
      "execution_count": 12,
      "outputs": []
    },
    {
      "cell_type": "code",
      "metadata": {
        "id": "tQxGzgJAqhDS",
        "colab_type": "code",
        "colab": {
          "base_uri": "https://localhost:8080/",
          "height": 226
        },
        "outputId": "a7a5c956-7fda-4417-b355-7750f546b2ba"
      },
      "source": [
        "predicted_class_indices"
      ],
      "execution_count": 13,
      "outputs": [
        {
          "output_type": "execute_result",
          "data": {
            "text/plain": [
              "array([0, 0, 0, 0, 0, 0, 0, 0, 0, 1, 0, 0, 0, 0, 0, 0, 0, 0, 0, 0, 0, 0,\n",
              "       0, 0, 0, 0, 0, 0, 0, 0, 0, 0, 0, 0, 0, 0, 0, 0, 0, 0, 0, 0, 0, 0,\n",
              "       0, 0, 0, 0, 0, 0, 0, 0, 0, 0, 0, 0, 0, 0, 0, 0, 0, 0, 0, 0, 0, 0,\n",
              "       0, 0, 0, 0, 0, 0, 0, 0, 0, 0, 0, 0, 0, 0, 0, 0, 0, 0, 0, 0, 0, 0,\n",
              "       0, 0, 0, 0, 0, 0, 0, 0, 0, 0, 0, 0, 1, 1, 1, 1, 1, 1, 1, 1, 1, 1,\n",
              "       1, 1, 1, 1, 1, 1, 1, 1, 1, 1, 1, 1, 1, 1, 1, 1, 1, 1, 1, 1, 1, 1,\n",
              "       1, 1, 1, 1, 1, 1, 1, 1, 1, 1, 1, 1, 1, 1, 1, 1, 1, 1, 1, 1, 1, 1,\n",
              "       1, 1, 1, 1, 1, 1, 1, 1, 1, 1, 1, 1, 1, 1, 1, 1, 1, 1, 1, 1, 1, 1,\n",
              "       1, 1, 1, 1, 1, 1, 1, 1, 1, 1, 1, 1, 1, 1, 1, 1, 1, 1, 1, 1, 1, 1,\n",
              "       1, 1])"
            ]
          },
          "metadata": {
            "tags": []
          },
          "execution_count": 13
        }
      ]
    },
    {
      "cell_type": "code",
      "metadata": {
        "id": "wkNNneoUq1ul",
        "colab_type": "code",
        "colab": {}
      },
      "source": [
        ""
      ],
      "execution_count": null,
      "outputs": []
    }
  ]
}