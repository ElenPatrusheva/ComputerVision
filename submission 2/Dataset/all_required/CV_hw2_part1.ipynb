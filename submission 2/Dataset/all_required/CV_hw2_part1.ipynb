{
  "nbformat": 4,
  "nbformat_minor": 0,
  "metadata": {
    "colab": {
      "name": "CV_hw2_part1.ipynb",
      "provenance": [],
      "collapsed_sections": []
    },
    "kernelspec": {
      "name": "python3",
      "display_name": "Python 3"
    }
  },
  "cells": [
    {
      "cell_type": "markdown",
      "metadata": {
        "id": "9jLfISSvtIgC",
        "colab_type": "text"
      },
      "source": [
        "# Import"
      ]
    },
    {
      "cell_type": "code",
      "metadata": {
        "id": "qVIxi4ajkze6",
        "colab_type": "code",
        "colab": {}
      },
      "source": [
        "import numpy as np\n",
        "import tensorflow as tf\n",
        "\n",
        "from sklearn.metrics import f1_score, precision_score, recall_score, accuracy_score\n",
        "from tensorflow.keras.preprocessing.image import ImageDataGenerator\n",
        "\n",
        "from tensorflow.keras import layers, models, losses"
      ],
      "execution_count": 1,
      "outputs": []
    },
    {
      "cell_type": "code",
      "metadata": {
        "id": "BO15ro-mk4Ee",
        "colab_type": "code",
        "colab": {}
      },
      "source": [
        "!unzip Dataset.zip -d Dataset"
      ],
      "execution_count": null,
      "outputs": []
    },
    {
      "cell_type": "markdown",
      "metadata": {
        "id": "Ds2F2d6OtS-r",
        "colab_type": "text"
      },
      "source": [
        "# Data Generators"
      ]
    },
    {
      "cell_type": "code",
      "metadata": {
        "id": "NKivnqvLk7m3",
        "colab_type": "code",
        "colab": {
          "base_uri": "https://localhost:8080/",
          "height": 59
        },
        "outputId": "610762de-53c3-4d97-c92b-4aa192e047a4"
      },
      "source": [
        "data_path = 'Dataset'\n",
        "train_data_dir = data_path\n",
        "img_height, img_width = 120, 120\n",
        "batch_size = 64\n",
        "\n",
        "\n",
        "train_datagen = ImageDataGenerator(rescale=1./255,\n",
        "    validation_split=0.2)\n",
        "\n",
        "train_generator = train_datagen.flow_from_directory(\n",
        "    train_data_dir,\n",
        "    target_size=(img_height, img_width),\n",
        "    batch_size=batch_size,\n",
        "    class_mode='categorical',\n",
        "    shuffle = True,\n",
        "    color_mode = 'grayscale', #to grayscale\n",
        "    subset='training') \n",
        "\n",
        "validation_generator = train_datagen.flow_from_directory(\n",
        "    train_data_dir, # same directory as training data\n",
        "    target_size=(img_height, img_width),\n",
        "    batch_size=batch_size,\n",
        "    class_mode='categorical',\n",
        "    shuffle = True,\n",
        "    color_mode = 'grayscale',\n",
        "    subset='validation')"
      ],
      "execution_count": 3,
      "outputs": [
        {
          "output_type": "stream",
          "text": [
            "Found 30168 images belonging to 2 classes.\n",
            "Found 7541 images belonging to 2 classes.\n"
          ],
          "name": "stdout"
        }
      ]
    },
    {
      "cell_type": "markdown",
      "metadata": {
        "id": "UFfSJuJxtalC",
        "colab_type": "text"
      },
      "source": [
        "# Model (CNN Classifier) learning "
      ]
    },
    {
      "cell_type": "code",
      "metadata": {
        "id": "sSDzlZXuk8nf",
        "colab_type": "code",
        "colab": {
          "base_uri": "https://localhost:8080/",
          "height": 435
        },
        "outputId": "bd272ff4-ed9a-4c6f-acc0-a0b8bcba9549"
      },
      "source": [
        "# Simple CNN two-class classifier\n",
        "model = models.Sequential()\n",
        "\n",
        "model.add(layers.Conv2D(32, (3, 3), activation='relu', \\\n",
        "                        input_shape=(img_height, img_width, 1)))\n",
        "model.add(layers.MaxPooling2D((2, 2)))\n",
        "\n",
        "model.add(layers.Conv2D(32, (3, 3), activation='relu'))\n",
        "model.add(layers.Flatten())\n",
        "\n",
        "model.add(layers.Dense(100, activation='relu'))\n",
        "model.add(layers.Dense(2))\n",
        "model.summary()\n",
        "\n",
        "model.compile(optimizer='adam',\n",
        "              loss=tf.keras.losses.BinaryCrossentropy(from_logits=True),\n",
        "              metrics=['accuracy'])"
      ],
      "execution_count": 4,
      "outputs": [
        {
          "output_type": "stream",
          "text": [
            "Model: \"sequential\"\n",
            "_________________________________________________________________\n",
            "Layer (type)                 Output Shape              Param #   \n",
            "=================================================================\n",
            "conv2d (Conv2D)              (None, 118, 118, 32)      320       \n",
            "_________________________________________________________________\n",
            "max_pooling2d (MaxPooling2D) (None, 59, 59, 32)        0         \n",
            "_________________________________________________________________\n",
            "conv2d_1 (Conv2D)            (None, 57, 57, 32)        9248      \n",
            "_________________________________________________________________\n",
            "flatten (Flatten)            (None, 103968)            0         \n",
            "_________________________________________________________________\n",
            "dense (Dense)                (None, 100)               10396900  \n",
            "_________________________________________________________________\n",
            "dense_1 (Dense)              (None, 2)                 202       \n",
            "=================================================================\n",
            "Total params: 10,406,670\n",
            "Trainable params: 10,406,670\n",
            "Non-trainable params: 0\n",
            "_________________________________________________________________\n"
          ],
          "name": "stdout"
        }
      ]
    },
    {
      "cell_type": "code",
      "metadata": {
        "id": "6ZGlazsYk_Ck",
        "colab_type": "code",
        "colab": {
          "base_uri": "https://localhost:8080/",
          "height": 225
        },
        "outputId": "c525945a-9a4a-4ceb-cd64-d475aa9516b5"
      },
      "source": [
        "# Learning\n",
        "nb_epochs = 3\n",
        "history = model.fit_generator(\n",
        "    train_generator,\n",
        "    steps_per_epoch = train_generator.samples // batch_size,\n",
        "    validation_data = validation_generator, \n",
        "    validation_steps = validation_generator.samples // batch_size,\n",
        "    epochs = nb_epochs)"
      ],
      "execution_count": 5,
      "outputs": [
        {
          "output_type": "stream",
          "text": [
            "WARNING:tensorflow:From <ipython-input-5-f2f63edf07da>:8: Model.fit_generator (from tensorflow.python.keras.engine.training) is deprecated and will be removed in a future version.\n",
            "Instructions for updating:\n",
            "Please use Model.fit, which supports generators.\n",
            "Epoch 1/3\n",
            "471/471 [==============================] - 475s 1s/step - loss: 0.1109 - accuracy: 0.9588 - val_loss: 0.0542 - val_accuracy: 0.9802\n",
            "Epoch 2/3\n",
            "471/471 [==============================] - 471s 1s/step - loss: 0.0381 - accuracy: 0.9888 - val_loss: 0.0240 - val_accuracy: 0.9915\n",
            "Epoch 3/3\n",
            "471/471 [==============================] - 471s 999ms/step - loss: 0.0245 - accuracy: 0.9927 - val_loss: 0.0133 - val_accuracy: 0.9963\n"
          ],
          "name": "stdout"
        }
      ]
    },
    {
      "cell_type": "markdown",
      "metadata": {
        "id": "WTQDAnkOtllz",
        "colab_type": "text"
      },
      "source": [
        "# Model saving"
      ]
    },
    {
      "cell_type": "code",
      "metadata": {
        "id": "YWZP8t7MlCN3",
        "colab_type": "code",
        "colab": {
          "base_uri": "https://localhost:8080/",
          "height": 184
        },
        "outputId": "45247597-a9d5-4d5e-de5d-95033ea97553"
      },
      "source": [
        "model.save(\"./saved_models/my_model\")"
      ],
      "execution_count": 6,
      "outputs": [
        {
          "output_type": "stream",
          "text": [
            "WARNING:tensorflow:From /usr/local/lib/python3.6/dist-packages/tensorflow/python/training/tracking/tracking.py:111: Model.state_updates (from tensorflow.python.keras.engine.training) is deprecated and will be removed in a future version.\n",
            "Instructions for updating:\n",
            "This property should not be used in TensorFlow 2.0, as updates are applied automatically.\n",
            "WARNING:tensorflow:From /usr/local/lib/python3.6/dist-packages/tensorflow/python/training/tracking/tracking.py:111: Layer.updates (from tensorflow.python.keras.engine.base_layer) is deprecated and will be removed in a future version.\n",
            "Instructions for updating:\n",
            "This property should not be used in TensorFlow 2.0, as updates are applied automatically.\n",
            "INFO:tensorflow:Assets written to: ./saved_models/my_model/assets\n"
          ],
          "name": "stdout"
        }
      ]
    },
    {
      "cell_type": "code",
      "metadata": {
        "id": "PlUrVWBRlE51",
        "colab_type": "code",
        "colab": {
          "base_uri": "https://localhost:8080/",
          "height": 164
        },
        "outputId": "3f1c0a6d-fc74-4a39-ac96-dcc2e854a32a"
      },
      "source": [
        "!tar -czvf model.tar.gz saved_models"
      ],
      "execution_count": 7,
      "outputs": [
        {
          "output_type": "stream",
          "text": [
            "saved_models/\n",
            "saved_models/my_model/\n",
            "saved_models/my_model/assets/\n",
            "saved_models/my_model/saved_model.pb\n",
            "saved_models/my_model/variables/\n",
            "saved_models/my_model/variables/variables.index\n",
            "saved_models/my_model/variables/variables.data-00000-of-00001\n"
          ],
          "name": "stdout"
        }
      ]
    },
    {
      "cell_type": "markdown",
      "metadata": {
        "id": "77XmujlftuUb",
        "colab_type": "text"
      },
      "source": [
        "# Testing and evaluation"
      ]
    },
    {
      "cell_type": "code",
      "metadata": {
        "id": "aFm3bVtglHBj",
        "colab_type": "code",
        "colab": {}
      },
      "source": [
        "test_generator = validation_generator"
      ],
      "execution_count": 8,
      "outputs": []
    },
    {
      "cell_type": "code",
      "metadata": {
        "id": "CQTT1rColJWu",
        "colab_type": "code",
        "colab": {
          "base_uri": "https://localhost:8080/",
          "height": 100
        },
        "outputId": "5441526f-a83a-45fd-8f88-0c1e475188d9"
      },
      "source": [
        "real_labels = []\n",
        "predicted_labels = []\n",
        "i=0\n",
        "for batch in test_generator:\n",
        "  if i >= test_generator.samples // batch_size:\n",
        "    break\n",
        "  i += 1\n",
        "  pred_batch = model.predict_classes(batch[0])\n",
        "  real_labels.extend(batch[1])\n",
        "  predicted_labels.extend(pred_batch)"
      ],
      "execution_count": 9,
      "outputs": [
        {
          "output_type": "stream",
          "text": [
            "WARNING:tensorflow:From <ipython-input-9-e85167fe58e9>:8: Sequential.predict_classes (from tensorflow.python.keras.engine.sequential) is deprecated and will be removed after 2021-01-01.\n",
            "Instructions for updating:\n",
            "Please use instead:* `np.argmax(model.predict(x), axis=-1)`,   if your model does multi-class classification   (e.g. if it uses a `softmax` last-layer activation).* `(model.predict(x) > 0.5).astype(\"int32\")`,   if your model does binary classification   (e.g. if it uses a `sigmoid` last-layer activation).\n"
          ],
          "name": "stdout"
        }
      ]
    },
    {
      "cell_type": "code",
      "metadata": {
        "id": "PkaThE0dlMVD",
        "colab_type": "code",
        "colab": {}
      },
      "source": [
        "real_labels = np.array(np.argmax(real_labels, axis=-1))\n",
        "predicted_labels = np.array(predicted_labels)"
      ],
      "execution_count": 10,
      "outputs": []
    },
    {
      "cell_type": "code",
      "metadata": {
        "id": "pqkkY4MPlOo3",
        "colab_type": "code",
        "colab": {
          "base_uri": "https://localhost:8080/",
          "height": 101
        },
        "outputId": "a9675dd6-c699-473f-91ba-d0802215261d"
      },
      "source": [
        "print('F1 score on validation split: ',        f1_score(real_labels, predicted_labels))\n",
        "print('Precision score on validation split: ', precision_score(real_labels, predicted_labels))\n",
        "print('Recall score on validation split: ',    recall_score(real_labels, predicted_labels))\n",
        "print('Accuracy score on validation split: ',  accuracy_score(real_labels, predicted_labels))"
      ],
      "execution_count": 11,
      "outputs": [
        {
          "output_type": "stream",
          "text": [
            "F1 score on validation split:  0.996264674493063\n",
            "Precision score on validation split:  0.9975955116216938\n",
            "Recall score on validation split:  0.9949373834265921\n",
            "Accuracy score on validation split:  0.9962606837606838\n"
          ],
          "name": "stdout"
        }
      ]
    },
    {
      "cell_type": "code",
      "metadata": {
        "id": "FYz3ab_Pymz6",
        "colab_type": "code",
        "colab": {}
      },
      "source": [
        ""
      ],
      "execution_count": null,
      "outputs": []
    }
  ]
}